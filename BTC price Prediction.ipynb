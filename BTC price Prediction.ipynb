{
 "cells": [
  {
   "cell_type": "code",
   "execution_count": null,
   "id": "d302f5be",
   "metadata": {},
   "outputs": [],
   "source": [
    "import pandas as pd\n",
    "import numpy as np\n",
    "import ydata_profiling as pp\n",
    "\n",
    "import math\n",
    "import datetime as dt\n",
    "\n",
    "import matplotlib.pyplot as plt\n",
    "from itertools import cycle\n",
    "import plotly.express as px\n",
    "from plotly.subplots import make_subplots\n",
    "%matplotlib inline\n",
    "\n",
    "from sklearn.metrics import mean_squared_error, mean_absolute_error, explained_variance_score, r2_score \n",
    "from sklearn.preprocessing import MinMaxScaler\n",
    "\n",
    "import tensorflow as tf\n",
    "from tensorflow.keras.models import Sequential\n",
    "from tensorflow.keras.layers import Dense, Dropout , Input, LSTM\n"
   ]
  },
  {
   "cell_type": "code",
   "execution_count": null,
   "id": "69559698",
   "metadata": {},
   "outputs": [],
   "source": [
    "data=pd.read_csv('BTC.csv')"
   ]
  },
  {
   "cell_type": "code",
   "execution_count": null,
   "id": "5ca253c2",
   "metadata": {},
   "outputs": [],
   "source": [
    "pp.ProfileReport(data)"
   ]
  },
  {
   "cell_type": "code",
   "execution_count": null,
   "id": "cbadfad2",
   "metadata": {
    "execution": {
     "iopub.execute_input": "2022-06-01T02:58:08.952502Z",
     "iopub.status.busy": "2022-06-01T02:58:08.952175Z",
     "iopub.status.idle": "2022-06-01T02:58:08.957781Z",
     "shell.execute_reply": "2022-06-01T02:58:08.956719Z",
     "shell.execute_reply.started": "2022-06-01T02:58:08.952464Z"
    },
    "papermill": {
     "duration": 0.087042,
     "end_time": "2021-08-25T15:25:36.100939",
     "exception": false,
     "start_time": "2021-08-25T15:25:36.013897",
     "status": "completed"
    },
    "tags": []
   },
   "outputs": [],
   "source": [
    "print('Total number of days present in the dataset: ',data.shape[0])\n",
    "print('Total number of fields present in the dataset: ',data.shape[1])"
   ]
  },
  {
   "cell_type": "code",
   "execution_count": null,
   "id": "0ed848b1",
   "metadata": {
    "execution": {
     "iopub.execute_input": "2022-06-01T02:58:08.973608Z",
     "iopub.status.busy": "2022-06-01T02:58:08.973034Z",
     "iopub.status.idle": "2022-06-01T02:58:08.999927Z",
     "shell.execute_reply": "2022-06-01T02:58:08.998917Z",
     "shell.execute_reply.started": "2022-06-01T02:58:08.973573Z"
    },
    "papermill": {
     "duration": 0.107432,
     "end_time": "2021-08-25T15:25:36.453525",
     "exception": false,
     "start_time": "2021-08-25T15:25:36.346093",
     "status": "completed"
    },
    "tags": []
   },
   "outputs": [],
   "source": [
    "data.head()"
   ]
  },
  {
   "cell_type": "code",
   "execution_count": null,
   "id": "da6de3a2",
   "metadata": {
    "execution": {
     "iopub.execute_input": "2022-06-01T02:58:09.001923Z",
     "iopub.status.busy": "2022-06-01T02:58:09.001352Z",
     "iopub.status.idle": "2022-06-01T02:58:09.016781Z",
     "shell.execute_reply": "2022-06-01T02:58:09.01567Z",
     "shell.execute_reply.started": "2022-06-01T02:58:09.001872Z"
    },
    "papermill": {
     "duration": 0.095912,
     "end_time": "2021-08-25T15:25:36.630246",
     "exception": false,
     "start_time": "2021-08-25T15:25:36.534334",
     "status": "completed"
    },
    "tags": []
   },
   "outputs": [],
   "source": [
    "data.tail()"
   ]
  },
  {
   "cell_type": "code",
   "execution_count": null,
   "id": "5ed5d7c8",
   "metadata": {
    "execution": {
     "iopub.execute_input": "2022-06-01T02:58:09.018554Z",
     "iopub.status.busy": "2022-06-01T02:58:09.018184Z",
     "iopub.status.idle": "2022-06-01T02:58:09.038396Z",
     "shell.execute_reply": "2022-06-01T02:58:09.037514Z",
     "shell.execute_reply.started": "2022-06-01T02:58:09.018518Z"
    },
    "papermill": {
     "duration": 0.107308,
     "end_time": "2021-08-25T15:25:36.818557",
     "exception": false,
     "start_time": "2021-08-25T15:25:36.711249",
     "status": "completed"
    },
    "tags": []
   },
   "outputs": [],
   "source": [
    "data.info()"
   ]
  },
  {
   "cell_type": "code",
   "execution_count": null,
   "id": "56226acb",
   "metadata": {},
   "outputs": [],
   "source": [
    "data.describe"
   ]
  },
  {
   "cell_type": "code",
   "execution_count": null,
   "id": "b5111c5d",
   "metadata": {},
   "outputs": [],
   "source": [
    "print('Null Values: ',data.isnull().values.sum())"
   ]
  },
  {
   "cell_type": "code",
   "execution_count": null,
   "id": "d2ca4c28",
   "metadata": {},
   "outputs": [],
   "source": [
    "data['Date'] = pd.to_datetime(data['Date'], format='%Y-%m-%d')\n",
    "data['Date']"
   ]
  },
  {
   "cell_type": "markdown",
   "id": "5179dbfb",
   "metadata": {},
   "source": [
    "# Overall Analysis"
   ]
  },
  {
   "cell_type": "code",
   "execution_count": null,
   "id": "1c0125e9",
   "metadata": {},
   "outputs": [],
   "source": [
    "y_overall = data.loc[(data['Date'] >= '2019-05-31')\n",
    "                     & (data['Date'] <= '2024-05-31')]\n",
    "\n",
    "y_overall.drop(y_overall[['Adj Close','Volume']],axis=1)"
   ]
  },
  {
   "cell_type": "code",
   "execution_count": null,
   "id": "891e46be",
   "metadata": {},
   "outputs": [],
   "source": [
    "names = cycle(['Open','Close','High','Low'])\n",
    "\n",
    "fig = px.line(y_overall, x=y_overall.Date, y=[y_overall['Open'], y_overall['Close'], \n",
    "                                          y_overall['High'], y_overall['Low']],\n",
    "             labels={'Date': 'Date','value':'Stock value'})\n",
    "fig.update_layout(title_text='Visual Representation of Data', font_size=15, font_color='black',legend_title_text='Stock Parameters')\n",
    "fig.for_each_trace(lambda t:  t.update(name = next(names)))\n",
    "fig.update_xaxes(showgrid=False)\n",
    "fig.update_yaxes(showgrid=False)\n",
    "\n",
    "fig.show()"
   ]
  },
  {
   "cell_type": "code",
   "execution_count": null,
   "id": "65fdfdbd",
   "metadata": {},
   "outputs": [],
   "source": [
    "monthvise = y_overall.groupby(y_overall['Date'].dt.strftime('%B'))[['Open','Close']].mean()\n",
    "new_order = ['January', 'February', 'March', 'April', 'May', 'June', 'July', 'August', \n",
    "             'September', 'October', 'November', 'December']\n",
    "monthvise = monthvise.reindex(new_order, axis=0)\n",
    "monthvise"
   ]
  },
  {
   "cell_type": "code",
   "execution_count": null,
   "id": "d08810cd",
   "metadata": {},
   "outputs": [],
   "source": [
    "data=data[['Date','Close']]\n",
    "data"
   ]
  },
  {
   "cell_type": "code",
   "execution_count": null,
   "id": "fe11ed8f",
   "metadata": {
    "scrolled": false
   },
   "outputs": [],
   "source": [
    "fig = px.line(data, x=data.Date, y=data.Close,labels={'date':'Date','close':'Close Stock'})\n",
    "fig.update_traces(marker_line_width=2, opacity=0.8, marker_line_color='orange')\n",
    "fig.update_layout(title_text='Whole period of timeframe of Bitcoin close price 2019-2024', plot_bgcolor='white', \n",
    "                  font_size=15, font_color='black')\n",
    "fig.update_xaxes(showgrid=False)\n",
    "fig.update_yaxes(showgrid=False)\n",
    "fig.show()"
   ]
  },
  {
   "cell_type": "markdown",
   "id": "90bed57b",
   "metadata": {
    "papermill": {
     "duration": 0.123474,
     "end_time": "2021-08-25T15:25:54.136965",
     "exception": false,
     "start_time": "2021-08-25T15:25:54.013491",
     "status": "completed"
    },
    "tags": []
   },
   "source": [
    "# Now we will Take data of just 1 Year"
   ]
  },
  {
   "cell_type": "code",
   "execution_count": null,
   "id": "049fd00a",
   "metadata": {},
   "outputs": [],
   "source": [
    "data = data[(data['Date'] > '2021-02-19') & (data['Date'] <= '2022-02-19')]\n",
    "close_stock = data.copy()\n",
    "data"
   ]
  },
  {
   "cell_type": "code",
   "execution_count": null,
   "id": "51880e8c",
   "metadata": {},
   "outputs": [],
   "source": [
    "print(\"Total data for prediction: \",data.shape[0])"
   ]
  },
  {
   "cell_type": "markdown",
   "id": "4df92522",
   "metadata": {},
   "source": [
    "# Train Model"
   ]
  },
  {
   "cell_type": "code",
   "execution_count": null,
   "id": "a3fffea7",
   "metadata": {},
   "outputs": [],
   "source": [
    "del data['Date']\n",
    "scaler=MinMaxScaler(feature_range=(0,1))\n",
    "data=scaler.fit_transform(np.array(data).reshape(-1,1))\n",
    "print(data.shape)"
   ]
  },
  {
   "cell_type": "code",
   "execution_count": null,
   "id": "fd56b3c0",
   "metadata": {},
   "outputs": [],
   "source": [
    "training_size=int(len(data)*0.67)\n",
    "test_size=len(data)-training_size\n",
    "train_data,test_data=data[0:training_size,:],data[training_size:len(data),:1]\n",
    "print(\"train_data: \", train_data.shape)\n",
    "print(\"test_data: \", test_data.shape)"
   ]
  },
  {
   "cell_type": "code",
   "execution_count": null,
   "id": "0c37037b",
   "metadata": {},
   "outputs": [],
   "source": [
    "def create_dataset(dataset, time_step=1):\n",
    "    dataX, dataY = [], []\n",
    "    for i in range(len(dataset)-time_step-1):\n",
    "        a = dataset[i:(i+time_step), 0]   \n",
    "        dataX.append(a)\n",
    "        dataY.append(dataset[i + time_step, 0])\n",
    "    return np.array(dataX), np.array(dataY)"
   ]
  },
  {
   "cell_type": "code",
   "execution_count": null,
   "id": "17b83b2f",
   "metadata": {},
   "outputs": [],
   "source": [
    "time_step = 15\n",
    "X_train, y_train = create_dataset(train_data, time_step)\n",
    "X_test, y_test = create_dataset(test_data, time_step)\n",
    "\n",
    "print(\"X_train: \", X_train.shape)\n",
    "print(\"y_train: \", y_train.shape)\n",
    "print(\"X_test: \", X_test.shape)\n",
    "print(\"y_test\", y_test.shape)"
   ]
  },
  {
   "cell_type": "code",
   "execution_count": null,
   "id": "68ea69b5",
   "metadata": {},
   "outputs": [],
   "source": [
    "X_train =X_train.reshape(X_train.shape[0],X_train.shape[1] , 1)\n",
    "X_test = X_test.reshape(X_test.shape[0],X_test.shape[1] , 1)\n",
    "\n",
    "print(\"X_train: \", X_train.shape)\n",
    "print(\"X_test: \", X_test.shape)"
   ]
  },
  {
   "cell_type": "markdown",
   "id": "eb355f8f",
   "metadata": {},
   "source": [
    "# LSTM"
   ]
  },
  {
   "cell_type": "code",
   "execution_count": null,
   "id": "10049e88",
   "metadata": {
    "scrolled": true
   },
   "outputs": [],
   "source": [
    "model=Sequential()\n",
    "\n",
    "model.add(LSTM(10,input_shape=(None,1),activation=\"relu\"))\n",
    "\n",
    "model.add(Dense(1))\n",
    "\n",
    "model.compile(loss=\"mean_squared_error\",optimizer=\"adam\")"
   ]
  },
  {
   "cell_type": "code",
   "execution_count": null,
   "id": "78eb4641",
   "metadata": {},
   "outputs": [],
   "source": [
    "history = model.fit(X_train,y_train,validation_data=(X_test,y_test),epochs=200,batch_size=32,verbose=1)"
   ]
  },
  {
   "cell_type": "markdown",
   "id": "14a58c59",
   "metadata": {
    "papermill": {
     "duration": 0.259206,
     "end_time": "2021-08-25T15:26:21.691177",
     "exception": false,
     "start_time": "2021-08-25T15:26:21.431971",
     "status": "completed"
    },
    "tags": []
   },
   "source": [
    "# Plotting Loss vs Validation loss "
   ]
  },
  {
   "cell_type": "code",
   "execution_count": null,
   "id": "6b0a758a",
   "metadata": {
    "execution": {
     "iopub.execute_input": "2022-06-01T02:59:05.230777Z",
     "iopub.status.busy": "2022-06-01T02:59:05.230525Z",
     "iopub.status.idle": "2022-06-01T02:59:05.428084Z",
     "shell.execute_reply": "2022-06-01T02:59:05.427251Z",
     "shell.execute_reply.started": "2022-06-01T02:59:05.230751Z"
    },
    "papermill": {
     "duration": 0.46315,
     "end_time": "2021-08-25T15:26:22.414609",
     "exception": false,
     "start_time": "2021-08-25T15:26:21.951459",
     "status": "completed"
    },
    "tags": []
   },
   "outputs": [],
   "source": [
    "loss = history.history['loss']\n",
    "val_loss = history.history['val_loss']\n",
    "\n",
    "epochs = range(len(loss))\n",
    "\n",
    "plt.plot(epochs, loss, 'r', label='Training loss')\n",
    "plt.plot(epochs, val_loss, 'b', label='Validation loss')\n",
    "plt.title('Training and validation loss')\n",
    "plt.legend(loc=0)\n",
    "plt.figure()\n",
    "\n",
    "\n",
    "plt.show()"
   ]
  },
  {
   "cell_type": "code",
   "execution_count": null,
   "id": "b5d12caa",
   "metadata": {},
   "outputs": [],
   "source": [
    "train_predict=model.predict(X_train)\n",
    "test_predict=model.predict(X_test)\n",
    "train_predict.shape, test_predict.shape"
   ]
  },
  {
   "cell_type": "markdown",
   "id": "9f72cd8e",
   "metadata": {
    "papermill": {
     "duration": 0.260401,
     "end_time": "2021-08-25T15:26:23.726232",
     "exception": false,
     "start_time": "2021-08-25T15:26:23.465831",
     "status": "completed"
    },
    "tags": []
   },
   "source": [
    "# Model Evaluation"
   ]
  },
  {
   "cell_type": "code",
   "execution_count": null,
   "id": "654d32e1",
   "metadata": {
    "execution": {
     "iopub.execute_input": "2022-06-01T02:59:05.680355Z",
     "iopub.status.busy": "2022-06-01T02:59:05.680036Z",
     "iopub.status.idle": "2022-06-01T02:59:05.68601Z",
     "shell.execute_reply": "2022-06-01T02:59:05.685206Z",
     "shell.execute_reply.started": "2022-06-01T02:59:05.680319Z"
    },
    "papermill": {
     "duration": 0.2992,
     "end_time": "2021-08-25T15:26:24.28557",
     "exception": false,
     "start_time": "2021-08-25T15:26:23.98637",
     "status": "completed"
    },
    "tags": []
   },
   "outputs": [],
   "source": [
    "train_predict = scaler.inverse_transform(train_predict)\n",
    "test_predict = scaler.inverse_transform(test_predict)\n",
    "original_ytrain = scaler.inverse_transform(y_train.reshape(-1,1)) \n",
    "original_ytest = scaler.inverse_transform(y_test.reshape(-1,1)) "
   ]
  },
  {
   "cell_type": "markdown",
   "id": "3f22f031",
   "metadata": {
    "papermill": {
     "duration": 0.26139,
     "end_time": "2021-08-25T15:26:24.811407",
     "exception": false,
     "start_time": "2021-08-25T15:26:24.550017",
     "status": "completed"
    },
    "tags": []
   },
   "source": [
    "# Evaluation metrices RMSE, MSE and MAE"
   ]
  },
  {
   "cell_type": "code",
   "execution_count": null,
   "id": "44fb15a7",
   "metadata": {
    "execution": {
     "iopub.execute_input": "2022-06-01T02:59:05.687957Z",
     "iopub.status.busy": "2022-06-01T02:59:05.687393Z",
     "iopub.status.idle": "2022-06-01T02:59:05.704374Z",
     "shell.execute_reply": "2022-06-01T02:59:05.703346Z",
     "shell.execute_reply.started": "2022-06-01T02:59:05.68792Z"
    },
    "papermill": {
     "duration": 0.277239,
     "end_time": "2021-08-25T15:26:25.351349",
     "exception": false,
     "start_time": "2021-08-25T15:26:25.07411",
     "status": "completed"
    },
    "tags": []
   },
   "outputs": [],
   "source": [
    "print(f'Train data RMSE: {math.sqrt(mean_squared_error(original_ytrain,train_predict)):.2f}')\n",
    "print(f'Train data MSE: { mean_squared_error(original_ytrain,train_predict):.2f}')\n",
    "print(f'Train data MAE: {mean_absolute_error(original_ytrain,train_predict):.2f}')\n",
    "print(\"--\"* 50)\n",
    "print(f'Test data RMSE: {math.sqrt(mean_squared_error(original_ytest,test_predict)):.2f}')\n",
    "print(f'Test data MSE: {mean_squared_error(original_ytest,test_predict):.2f}')\n",
    "print(f'Test data MAE: {mean_absolute_error(original_ytest,test_predict):.2f}')"
   ]
  },
  {
   "cell_type": "markdown",
   "id": "5c9325d0",
   "metadata": {
    "papermill": {
     "duration": 0.265396,
     "end_time": "2021-08-25T15:26:25.880564",
     "exception": false,
     "start_time": "2021-08-25T15:26:25.615168",
     "status": "completed"
    },
    "tags": []
   },
   "source": [
    "# Variance Regression Score"
   ]
  },
  {
   "cell_type": "code",
   "execution_count": null,
   "id": "a057a05e",
   "metadata": {
    "execution": {
     "iopub.execute_input": "2022-06-01T02:59:05.706331Z",
     "iopub.status.busy": "2022-06-01T02:59:05.705965Z",
     "iopub.status.idle": "2022-06-01T02:59:05.715864Z",
     "shell.execute_reply": "2022-06-01T02:59:05.714417Z",
     "shell.execute_reply.started": "2022-06-01T02:59:05.706293Z"
    },
    "papermill": {
     "duration": 0.273421,
     "end_time": "2021-08-25T15:26:26.416135",
     "exception": false,
     "start_time": "2021-08-25T15:26:26.142714",
     "status": "completed"
    },
    "tags": []
   },
   "outputs": [],
   "source": [
    "print(f'Train data explained variance regression score: {explained_variance_score(original_ytrain, train_predict):.2f}')\n",
    "print(f'Test data explained variance regression score: {explained_variance_score(original_ytest, test_predict):.2f}')"
   ]
  },
  {
   "cell_type": "markdown",
   "id": "f61144dd",
   "metadata": {
    "papermill": {
     "duration": 0.263276,
     "end_time": "2021-08-25T15:26:26.944093",
     "exception": false,
     "start_time": "2021-08-25T15:26:26.680817",
     "status": "completed"
    },
    "tags": []
   },
   "source": [
    "# R square score for regression"
   ]
  },
  {
   "cell_type": "code",
   "execution_count": null,
   "id": "23b008b7",
   "metadata": {
    "execution": {
     "iopub.execute_input": "2022-06-01T02:59:05.717948Z",
     "iopub.status.busy": "2022-06-01T02:59:05.717574Z",
     "iopub.status.idle": "2022-06-01T02:59:05.725104Z",
     "shell.execute_reply": "2022-06-01T02:59:05.723938Z",
     "shell.execute_reply.started": "2022-06-01T02:59:05.717911Z"
    },
    "papermill": {
     "duration": 0.272709,
     "end_time": "2021-08-25T15:26:27.484975",
     "exception": false,
     "start_time": "2021-08-25T15:26:27.212266",
     "status": "completed"
    },
    "tags": []
   },
   "outputs": [],
   "source": [
    "print(f'Train data R2 score: {(r2_score(original_ytrain, train_predict)):.2f}')\n",
    "print(f'Test data R2 score: {(r2_score(original_ytest, test_predict)):.2f}')"
   ]
  },
  {
   "cell_type": "markdown",
   "id": "5584bed1",
   "metadata": {
    "papermill": {
     "duration": 0.262784,
     "end_time": "2021-08-25T15:26:29.070108",
     "exception": false,
     "start_time": "2021-08-25T15:26:28.807324",
     "status": "completed"
    },
    "tags": []
   },
   "source": [
    "# Comparision of original stock close price and predicted close price"
   ]
  },
  {
   "cell_type": "code",
   "execution_count": null,
   "id": "3795814c",
   "metadata": {
    "execution": {
     "iopub.execute_input": "2022-06-01T02:59:05.741416Z",
     "iopub.status.busy": "2022-06-01T02:59:05.74106Z",
     "iopub.status.idle": "2022-06-01T02:59:05.878303Z",
     "shell.execute_reply": "2022-06-01T02:59:05.877472Z",
     "shell.execute_reply.started": "2022-06-01T02:59:05.741381Z"
    },
    "papermill": {
     "duration": 0.406341,
     "end_time": "2021-08-25T15:26:29.736282",
     "exception": false,
     "start_time": "2021-08-25T15:26:29.329941",
     "status": "completed"
    },
    "scrolled": true,
    "tags": []
   },
   "outputs": [],
   "source": [
    "look_back=time_step\n",
    "trainPredictPlot = np.empty_like(data)\n",
    "trainPredictPlot[:, :] = np.nan\n",
    "trainPredictPlot[look_back:len(train_predict)+look_back, :] = train_predict\n",
    "\n",
    "testPredictPlot = np.empty_like(data)\n",
    "testPredictPlot[:, :] = np.nan\n",
    "testPredictPlot[len(train_predict)+(look_back*2)+1:len(data)-1, :] = test_predict\n",
    "\n",
    "names = cycle(['Original close price','Train predicted close price','Test predicted close price'])\n",
    "\n",
    "\n",
    "plotdf = pd.DataFrame({'date': close_stock['Date'],\n",
    "                       'original_close': close_stock['Close'],\n",
    "                      'train_predicted_close': trainPredictPlot.reshape(1,-1)[0].tolist(),\n",
    "                      'test_predicted_close': testPredictPlot.reshape(1,-1)[0].tolist()})\n",
    "\n",
    "fig = px.line(plotdf,x=plotdf['date'], y=[plotdf['original_close'],plotdf['train_predicted_close'],\n",
    "                                          plotdf['test_predicted_close']],\n",
    "              labels={'value':'Stock price','date': 'Year'})\n",
    "fig.update_layout(title_text='Comparision between original close price vs predicted close price',\n",
    "                  plot_bgcolor='white', font_size=15, font_color='black', legend_title_text='Close Price')\n",
    "fig.for_each_trace(lambda t:  t.update(name = next(names)))\n",
    "\n",
    "fig.update_xaxes(showgrid=False)\n",
    "fig.update_yaxes(showgrid=False)\n",
    "fig.show()"
   ]
  },
  {
   "cell_type": "code",
   "execution_count": null,
   "id": "a52b9231",
   "metadata": {},
   "outputs": [],
   "source": []
  }
 ],
 "metadata": {
  "kernelspec": {
   "display_name": "Python 3 (ipykernel)",
   "language": "python",
   "name": "python3"
  },
  "language_info": {
   "codemirror_mode": {
    "name": "ipython",
    "version": 3
   },
   "file_extension": ".py",
   "mimetype": "text/x-python",
   "name": "python",
   "nbconvert_exporter": "python",
   "pygments_lexer": "ipython3",
   "version": "3.11.5"
  }
 },
 "nbformat": 4,
 "nbformat_minor": 5
}
